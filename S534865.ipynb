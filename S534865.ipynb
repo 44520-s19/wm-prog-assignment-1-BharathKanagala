{
 "cells": [
  {
   "cell_type": "markdown",
   "metadata": {},
   "source": [
    "## Bharath Kumar Kanagala"
   ]
  },
  {
   "cell_type": "code",
   "execution_count": 64,
   "metadata": {},
   "outputs": [
    {
     "name": "stdout",
     "output_type": "stream",
     "text": [
      "#      \r\n",
      "##    \r\n",
      "#      \r\n",
      "##    \r\n",
      "##    ##    \r\n",
      "###  ###  \r\n",
      "########"
     ]
    }
   ],
   "source": [
    "a=1\n",
    "b=2\n",
    "c=3\n",
    "for l in range(1,3):\n",
    "    if a==1:    \n",
    "      print(\"#    \",end=\"  \")\n",
    "      print(\"\\r\")\n",
    "    if b==2:\n",
    "       print(\"##   \",end=\" \") \n",
    "       print(\"\\r\")\n",
    "for l in range(1,3):\n",
    "    print(\"##   \",end=\" \")\n",
    "print(\"\\r\")\n",
    "for l in range(1,3):\n",
    "       print(\"###  \",end=\"\")\n",
    "print(\"\\r\")\n",
    "for l in range(1,9):\n",
    "    print(\"#\",end=\"\")"
   ]
  },
  {
   "cell_type": "code",
   "execution_count": null,
   "metadata": {},
   "outputs": [],
   "source": []
  },
  {
   "cell_type": "code",
   "execution_count": null,
   "metadata": {},
   "outputs": [],
   "source": []
  }
 ],
 "metadata": {
  "kernelspec": {
   "display_name": "Python 3",
   "language": "python",
   "name": "python3"
  },
  "language_info": {
   "codemirror_mode": {
    "name": "ipython",
    "version": 3
   },
   "file_extension": ".py",
   "mimetype": "text/x-python",
   "name": "python",
   "nbconvert_exporter": "python",
   "pygments_lexer": "ipython3",
   "version": "3.7.3"
  }
 },
 "nbformat": 4,
 "nbformat_minor": 2
}
