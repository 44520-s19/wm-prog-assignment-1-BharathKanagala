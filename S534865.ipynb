{
 "cells": [
  {
   "cell_type": "markdown",
   "metadata": {},
   "source": [
    "## Bharath Kumar Kanagala"
   ]
  },
  {
   "cell_type": "code",
   "execution_count": 66,
   "metadata": {},
   "outputs": [
    {
     "name": "stdout",
     "output_type": "stream",
     "text": [
      "#      #      \r\n",
      "##    ##    \r\n",
      "###  ###  \r\n",
      "########"
     ]
    }
   ],
   "source": [
    "for l in range(1,3):\n",
    "      print(\"#    \",end=\"  \")\n",
    "print(\"\\r\")\n",
    "for l in range(1,3):\n",
    "    print(\"##   \",end=\" \")\n",
    "print(\"\\r\")\n",
    "for l in range(1,3):\n",
    "       print(\"###  \",end=\"\")\n",
    "print(\"\\r\")\n",
    "for l in range(1,9):\n",
    "    print(\"#\",end=\"\")"
   ]
  },
  {
   "cell_type": "code",
   "execution_count": null,
   "metadata": {},
   "outputs": [],
   "source": []
  },
  {
   "cell_type": "code",
   "execution_count": null,
   "metadata": {},
   "outputs": [],
   "source": []
  }
 ],
 "metadata": {
  "kernelspec": {
   "display_name": "Python 3",
   "language": "python",
   "name": "python3"
  },
  "language_info": {
   "codemirror_mode": {
    "name": "ipython",
    "version": 3
   },
   "file_extension": ".py",
   "mimetype": "text/x-python",
   "name": "python",
   "nbconvert_exporter": "python",
   "pygments_lexer": "ipython3",
   "version": "3.7.3"
  }
 },
 "nbformat": 4,
 "nbformat_minor": 2
}
